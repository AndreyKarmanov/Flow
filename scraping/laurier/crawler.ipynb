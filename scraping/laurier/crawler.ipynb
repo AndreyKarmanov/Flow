{
 "cells": [
  {
   "cell_type": "markdown",
   "metadata": {},
   "source": [
    "this is a webscraper, that will stay on a specific site and get all the links from it. \n",
    "\n",
    "The intention is that you can save the pages, later filtering them for course info."
   ]
  },
  {
   "cell_type": "code",
   "execution_count": null,
   "metadata": {},
   "outputs": [],
   "source": [
    "import pandas as pd\n",
    "import bs4\n",
    "import aiohttp\n",
    "import httpx\n",
    "import logging\n",
    "from datetime import datetime\n",
    "import asyncio\n",
    "from collections import deque\n",
    "import time"
   ]
  },
  {
   "cell_type": "code",
   "execution_count": null,
   "metadata": {},
   "outputs": [],
   "source": [
    "pageQueue = deque()\n",
    "pageSet = set()\n",
    "pageData = pd.DataFrame(columns=[\"url\", \"title\", \"timestamp\",  \"raw\"])\n",
    "pageData = pageData.set_index(\"url\")\n",
    "logging.basicConfig(level=logging.INFO)\n",
    "pageQueue.append(\"https://academic-calendar.wlu.ca/\")\n",
    "pageSet.add(\"https://academic-calendar.wlu.ca/\")\n",
    "counter = 0\n",
    "urlErrors = []\n",
    "urlWhitelist = [\"y=85\", \"https://academic-calendar.wlu.ca/\"] # only select the 2023 year (y=85) and stay on the site"
   ]
  },
  {
   "cell_type": "code",
   "execution_count": null,
   "metadata": {},
   "outputs": [],
   "source": [
    "# outline of the scraper\n",
    "# 1. get a page from the queue\n",
    "# 2. scrape the page for links\n",
    "# 3. add the links to the queue if they are not already in the set\n",
    "# 4. repeat until the queue is empty\n",
    "# how can I save the pages? I need to save the links as well as the html. \n",
    "# I think I will save the links in a csv file and the html in a folder"
   ]
  },
  {
   "cell_type": "code",
   "execution_count": null,
   "metadata": {},
   "outputs": [],
   "source": [
    "limits = httpx.Limits(max_connections=10)\n",
    "timeout = httpx.Timeout(10.0, connect=60.0)\n",
    "async with httpx.AsyncClient(limits=limits, timeout=timeout) as client:\n",
    "    async def scrapePage(url: str):\n",
    "        if not url.startswith(\"https://\"):\n",
    "            url = \"https://academic-calendar.wlu.ca/\" + url\n",
    "        try:\n",
    "            data = await client.get(url)\n",
    "        except Exception as e:\n",
    "            logging.error(f\"Error while scraping {url}: {e}\")\n",
    "            urlErrors.append(url)\n",
    "            return\n",
    "        soup = bs4.BeautifulSoup(data.text, \"html.parser\")\n",
    "        title = soup.title.string if soup.title is not None else None\n",
    "        links = filter(lambda x: x is not None and x not in pageSet and any(whitelist in x for whitelist in urlWhitelist), map(lambda x: x.get(\"href\"), soup.find_all(\"a\")))\n",
    "        for link in links:\n",
    "            pageQueue.append(link)\n",
    "            pageSet.add(link)\n",
    "\n",
    "        pageData.loc[url] = [title, datetime.now(), data.text]  # Assign the string representation of links\n",
    "    \n",
    "    while pageQueue:\n",
    "        tasks = [scrapePage(pageQueue.popleft()) for _ in range(min(len(pageQueue), 10))]\n",
    "        counter += len(tasks)\n",
    "        await asyncio.gather(*tasks)\n",
    "        logging.info(f\"Scraped {counter} pages\")\n",
    "        if len(pageData) > 10000:\n",
    "            pageData.to_csv(f\"data/laurier/data_{counter}.csv\")\n",
    "            logging.info(f\"Saved {len(pageData)} pages\")\n",
    "            pageData = pd.DataFrame(columns=[\"url\", \"title\", \"timestamp\",  \"raw\"])\n",
    "            pageData = pageData.set_index(\"url\")"
   ]
  }
 ],
 "metadata": {
  "kernelspec": {
   "display_name": "flow",
   "language": "python",
   "name": "python3"
  },
  "language_info": {
   "codemirror_mode": {
    "name": "ipython",
    "version": 3
   },
   "file_extension": ".py",
   "mimetype": "text/x-python",
   "name": "python",
   "nbconvert_exporter": "python",
   "pygments_lexer": "ipython3",
   "version": "3.12.0"
  }
 },
 "nbformat": 4,
 "nbformat_minor": 2
}
