{
 "cells": [
  {
   "cell_type": "code",
   "execution_count": 1,
   "metadata": {},
   "outputs": [],
   "source": [
    "import pandas as pd\n",
    "import bs4\n",
    "import os"
   ]
  },
  {
   "cell_type": "code",
   "execution_count": 2,
   "metadata": {},
   "outputs": [],
   "source": [
    "data = pd.read_csv('./laurier.csv')"
   ]
  },
  {
   "cell_type": "code",
   "execution_count": 3,
   "metadata": {},
   "outputs": [],
   "source": [
    "# data['content'] = data['raw'].apply(lambda x: str(bs4.BeautifulSoup(x, 'html.parser').select_one('div.content')))"
   ]
  },
  {
   "cell_type": "code",
   "execution_count": 3,
   "metadata": {},
   "outputs": [],
   "source": [
    "from urllib.parse import urlparse, parse_qs\n",
    "\n",
    "def getCourseData(url: str, content: str):\n",
    "    soup = bs4.BeautifulSoup(content, 'html.parser')\n",
    "    \n",
    "    header = soup.select_one('div.content > h1').contents\n",
    "\n",
    "    if len(header) < 2:\n",
    "        return {\n",
    "            'url' : url,\n",
    "            'title': None,\n",
    "            'name': None,\n",
    "            'credits': None,\n",
    "            'description': None\n",
    "        }\n",
    "\n",
    "    title = header[0].text.strip()\n",
    "    name = header[2].text.strip()\n",
    "    credits = header[4].text.strip()\n",
    "    description = soup.select_one('div.content > p')\n",
    "    params = parse_qs(urlparse(url).query)\n",
    "    \n",
    "\n",
    "    return {\n",
    "        'url' : url,\n",
    "        'title': title,\n",
    "        'name': name,\n",
    "        'credits': credits,\n",
    "        'description': description.text.strip() if description else None,\n",
    "        **{key : value[0] for key, value in params.items()}\n",
    "    }"
   ]
  },
  {
   "cell_type": "code",
   "execution_count": 4,
   "metadata": {},
   "outputs": [],
   "source": [
    "content = []\n",
    "for row in data[data['url'].str.startswith('https://academic-calendar.wlu.ca/course.php')].itertuples():\n",
    "    content.append(getCourseData(row.url, row.content))\n",
    "\n",
    "courses = pd.DataFrame(content).dropna()"
   ]
  },
  {
   "cell_type": "code",
   "execution_count": 7,
   "metadata": {},
   "outputs": [],
   "source": [
    "departments = {\n",
    "    1037: 'Faculty of Music',\n",
    "    1046: 'Martin Luther University College',\n",
    "    1033: 'Faculty of Arts',\n",
    "    1035: 'Faculty of Liberal Arts',\n",
    "    1047: 'Faculty of Human and Social Sciences',\n",
    "    1036: 'Lazaridis School of Business and Economics',\n",
    "    1034: 'Faculty of Science',\n",
    "    1048: 'Lyle S Hallman Faculty of Social Work',\n",
    "    1043: 'Faculty of Education',\n",
    "    1032: 'Interdisciplinary Course Offerings'\n",
    "}"
   ]
  },
  {
   "cell_type": "code",
   "execution_count": 38,
   "metadata": {},
   "outputs": [],
   "source": [
    "courses.rename(columns={'title' : 'code'}).to_csv('./courses.csv', index=False)"
   ]
  },
  {
   "cell_type": "code",
   "execution_count": 39,
   "metadata": {},
   "outputs": [
    {
     "data": {
      "text/plain": [
       "Index(['url', 'title', 'name', 'credits', 'description', 'c', 'cal', 'd', 's',\n",
       "       'y', 'department'],\n",
       "      dtype='object')"
      ]
     },
     "execution_count": 39,
     "metadata": {},
     "output_type": "execute_result"
    }
   ],
   "source": [
    "courses.columns"
   ]
  }
 ],
 "metadata": {
  "kernelspec": {
   "display_name": "flow",
   "language": "python",
   "name": "python3"
  },
  "language_info": {
   "codemirror_mode": {
    "name": "ipython",
    "version": 3
   },
   "file_extension": ".py",
   "mimetype": "text/x-python",
   "name": "python",
   "nbconvert_exporter": "python",
   "pygments_lexer": "ipython3",
   "version": "3.12.0"
  }
 },
 "nbformat": 4,
 "nbformat_minor": 2
}
