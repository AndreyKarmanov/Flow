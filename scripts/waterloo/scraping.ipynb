{
 "cells": [
  {
   "cell_type": "code",
   "execution_count": 26,
   "metadata": {},
   "outputs": [],
   "source": [
    "import requests\n",
    "import os\n",
    "\n",
    "BASE_URL = \"https://openapi.data.uwaterloo.ca/v3\"\n",
    "API_KEY = os.getenv(\"UW_TOKEN\")\n",
    "HEADERS = {\n",
    "    \"accept\": \"application/json\",\n",
    "    \"x-api-key\": API_KEY\n",
    "}\n",
    "\n",
    "def register_account(email, project: str = \"Flow\", uri: str = \"https://github.com/AndreyKarmanov/Flow\") -> requests.Response:\n",
    "    url = BASE_URL + \"/account/register\"\n",
    "    headers = {\n",
    "        \"content-type\": \"application/x-www-form-urlencoded\"\n",
    "    }\n",
    "\n",
    "    data = {\n",
    "        \"email\": email,\n",
    "        \"project\": project,\n",
    "        \"uri\": uri\n",
    "    }\n",
    "\n",
    "    # and then just use the curl command in CMD (not powershell) to get activated. The email has the api token. \n",
    "    return requests.post(url, headers=headers, data=data)"
   ]
  },
  {
   "cell_type": "code",
   "execution_count": 47,
   "metadata": {},
   "outputs": [],
   "source": [
    "def get_departments():\n",
    "    \"\"\"\n",
    "    Returns a list of all departments, and their `organizationCodes`\n",
    "    \"\"\"\n",
    "    return requests.get(url=f'{BASE_URL}/AcademicOrganizations',\n",
    "                        headers=HEADERS).json()\n",
    "\n",
    "def get_subjects(organizationCode=None):\n",
    "    \"\"\"\n",
    "    `organizationCode`: filters subjects by organization code\n",
    "    \"\"\"\n",
    "    if not organizationCode:\n",
    "        return requests.get(url=f'{BASE_URL}/Subjects',\n",
    "                            headers=HEADERS).json()\n",
    "\n",
    "    return requests.get(url=f'{BASE_URL}/Subjects/associatedto/{organizationCode}',\n",
    "                        headers=HEADERS).json()\n",
    "\n",
    "\n",
    "def get_current_term():\n",
    "    return requests.get(url=f'{BASE_URL}/Terms/current',\n",
    "                        headers=HEADERS).json()\n",
    "\n",
    "def get_terms(year=None):\n",
    "    \"\"\"\n",
    "    `year`: optionally filters terms by year\n",
    "    \"\"\"\n",
    "    if year:\n",
    "        return requests.get(url=f'{BASE_URL}/Terms/foracademicyear/{year}',\n",
    "                            headers=HEADERS).json()\n",
    "    return requests.get(url=f'{BASE_URL}/Terms', \n",
    "                        headers=HEADERS).json()\n",
    "\n",
    "\n",
    "def get_current_term():\n",
    "    return requests.get(url=f'{BASE_URL}/Terms/current',\n",
    "                        headers=HEADERS).json()\n",
    "\n",
    "\n",
    "def get_courses(termCode, subject=None, courseId=None):\n",
    "\n",
    "    if courseId:\n",
    "        return requests.get(url=f'{BASE_URL}/Courses/{termCode}/{courseId}',\n",
    "                            headers=HEADERS).json()\n",
    "\n",
    "    elif subject:\n",
    "        return requests.get(url=f'{BASE_URL}/Courses/{termCode}/{subject}',\n",
    "                            headers=HEADERS).json()\n",
    "\n",
    "    return requests.get(url=f'{BASE_URL}/Courses/{termCode}',\n",
    "                        headers=HEADERS).json()"
   ]
  },
  {
   "cell_type": "code",
   "execution_count": 44,
   "metadata": {},
   "outputs": [],
   "source": [
    "currentTerm = get_current_term()\n",
    "\n",
    "departments = get_departments()\n",
    "\n",
    "subjects = get_subjects(departments[0]['code'])"
   ]
  },
  {
   "cell_type": "code",
   "execution_count": 49,
   "metadata": {},
   "outputs": [],
   "source": [
    "termCode = currentTerm['termCode']\n",
    "accDepartment = departments[0]['code']"
   ]
  },
  {
   "cell_type": "code",
   "execution_count": 50,
   "metadata": {},
   "outputs": [],
   "source": [
    "courses = get_courses(termCode)"
   ]
  },
  {
   "cell_type": "code",
   "execution_count": 57,
   "metadata": {},
   "outputs": [],
   "source": [
    "# get all terms, and then get all courses for each term.\n",
    "# combine all the courses into one list, taking the newest version of the course if there are duplicates.\n",
    "\n",
    "import json\n",
    "\n",
    "data = [{ 'term' : term, 'courses' : get_courses(term['termCode']) } for term in get_terms()]\n",
    "\n",
    "with open('data.json', 'w') as outfile:\n",
    "    json.dump(data, outfile)"
   ]
  },
  {
   "cell_type": "code",
   "execution_count": 1,
   "metadata": {},
   "outputs": [],
   "source": [
    "import json\n",
    "\n",
    "data = json.loads(open('data.json').read())"
   ]
  },
  {
   "cell_type": "code",
   "execution_count": 12,
   "metadata": {},
   "outputs": [
    {
     "data": {
      "text/plain": [
       "{'courseId': '000003',\n",
       " 'courseOfferNumber': 1,\n",
       " 'termCode': '1209',\n",
       " 'termName': 'Fall 2020',\n",
       " 'associatedAcademicCareer': 'GRD',\n",
       " 'associatedAcademicGroupCode': 'ART',\n",
       " 'associatedAcademicOrgCode': 'ACC',\n",
       " 'subjectCode': 'ACC',\n",
       " 'catalogNumber': '610',\n",
       " 'title': 'Public Accounting Practice',\n",
       " 'descriptionAbbreviated': 'Public Accounting Practice',\n",
       " 'description': \"This course is designed to enhance the students' abilities to apply knowledge of accounting principles, theories, and practices through the use of multi-dimensional case studies.\",\n",
       " 'gradingBasis': 'NUM',\n",
       " 'courseComponentCode': 'LEC',\n",
       " 'enrollConsentCode': 'D',\n",
       " 'enrollConsentDescription': 'No Consent Required',\n",
       " 'dropConsentCode': 'N',\n",
       " 'dropConsentDescription': 'No Consent Required',\n",
       " 'requirementsDescription': None}"
      ]
     },
     "execution_count": 12,
     "metadata": {},
     "output_type": "execute_result"
    }
   ],
   "source": [
    "data[1]['courses'][0]"
   ]
  },
  {
   "cell_type": "code",
   "execution_count": 16,
   "metadata": {},
   "outputs": [
    {
     "name": "stdout",
     "output_type": "stream",
     "text": [
      "{'type': 'https://tools.ietf.org/html/rfc7231#section-6.5.4', 'title': 'Not Found', 'status': 404, 'traceId': '00-9d397f8185d56487950009b69489bd82-5a7e4c2eac857243-00'}\n"
     ]
    },
    {
     "ename": "TypeError",
     "evalue": "string indices must be integers, not 'str'",
     "output_type": "error",
     "traceback": [
      "\u001b[1;31m---------------------------------------------------------------------------\u001b[0m",
      "\u001b[1;31mTypeError\u001b[0m                                 Traceback (most recent call last)",
      "Cell \u001b[1;32mIn[16], line 9\u001b[0m\n\u001b[0;32m      7\u001b[0m \u001b[38;5;28;01mfor\u001b[39;00m course \u001b[38;5;129;01min\u001b[39;00m term[\u001b[38;5;124m'\u001b[39m\u001b[38;5;124mcourses\u001b[39m\u001b[38;5;124m'\u001b[39m]:\n\u001b[0;32m      8\u001b[0m     \u001b[38;5;28;01mtry\u001b[39;00m:\n\u001b[1;32m----> 9\u001b[0m         code \u001b[38;5;241m=\u001b[39m \u001b[43mcourse\u001b[49m\u001b[43m[\u001b[49m\u001b[38;5;124;43m'\u001b[39;49m\u001b[38;5;124;43msubject\u001b[39;49m\u001b[38;5;124;43m'\u001b[39;49m\u001b[43m]\u001b[49m \u001b[38;5;241m+\u001b[39m course[\u001b[38;5;124m'\u001b[39m\u001b[38;5;124msubjectCode\u001b[39m\u001b[38;5;124m'\u001b[39m]\n\u001b[0;32m     10\u001b[0m     \u001b[38;5;28;01mexcept\u001b[39;00m:\n\u001b[0;32m     11\u001b[0m         \u001b[38;5;28mprint\u001b[39m(term[\u001b[38;5;124m'\u001b[39m\u001b[38;5;124mcourses\u001b[39m\u001b[38;5;124m'\u001b[39m])\n",
      "\u001b[1;31mTypeError\u001b[0m: string indices must be integers, not 'str'"
     ]
    }
   ],
   "source": [
    "# going from new to old terms, add courses to the list if they don't already exist\n",
    "courseSet = set()\n",
    "courses = []\n",
    "\n",
    "sorted_data = sorted(data, key=lambda x: x['term']['termCode'], reverse=True)\n",
    "# filter out terms that had errors\n",
    "\n",
    "for term in sorted(data, key=lambda x: x['term']['termCode'], reverse=True):\n",
    "    for course in term['courses']:\n",
    "        try:\n",
    "            code = course['subject'] + course['subjectCode']\n",
    "        except:\n",
    "            print(term['courses'])\n",
    "            raise\n",
    "        if code not in courseSet:\n",
    "            courseSet.add(code)\n",
    "            courses.append(course)"
   ]
  }
 ],
 "metadata": {
  "kernelspec": {
   "display_name": "flow",
   "language": "python",
   "name": "python3"
  },
  "language_info": {
   "codemirror_mode": {
    "name": "ipython",
    "version": 3
   },
   "file_extension": ".py",
   "mimetype": "text/x-python",
   "name": "python",
   "nbconvert_exporter": "python",
   "pygments_lexer": "ipython3",
   "version": "3.12.0"
  }
 },
 "nbformat": 4,
 "nbformat_minor": 2
}
